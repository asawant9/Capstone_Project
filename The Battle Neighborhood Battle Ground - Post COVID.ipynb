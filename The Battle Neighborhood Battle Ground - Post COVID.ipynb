{
    "cells": [
        {
            "cell_type": "markdown",
            "metadata": {
                "collapsed": true
            },
            "source": "# The Battle of the Neighborhoods - Austin a post COVID - 19 small business opportunity !"
        },
        {
            "cell_type": "markdown",
            "metadata": {},
            "source": "This applied Data Science project aims to use the Data Science and Machine Learning concepts learned during the IBM Data Science Professional Certificate Course. The objective of this project is to use the Austin neighborhood, restaurant and demographics data to asses which Austin neighborhood is most ideal to open a Chinese Restaurant post COVID - 19!\n\nI Plan to have the following sections in my Final Project:\n1. Problem Definition\n2. Data Curation and Data Wrangling (using Foursquare & Google APIs)\n3. Using Machine Learning to cluster neighborhoods\n4. Visualizing the data using Folium maps.\n5. Summary\n6. Conclusion."
        },
        {
            "cell_type": "markdown",
            "metadata": {},
            "source": "# Introduction\n\nAustin the capital of texas is being one of the fastest growing cities in America. Also due to COVID - 19 and the remote work culture, we are seeing that a lot of companies are not only offerring working remotely but are also moving their operations to Texas (primarily near austix area). Celebrities and socially influential people like Elon Musk, CEO - SPACEX, TESLA, BORING, NEURALINK; is also one of the people migrating to Austix, Texas. In short Austin is becoming one hot spot of opportunities and there is a lot of migration taking place to Austix especially from California Silicon Valley.\n\nIn additional to this Austin was recently voted the No. 1 place to live in America for the third year in a row (U.S. News & World Report) and was ranked No.4 of the best large cities to start a business (WalletHub). According to Austin City Government, the City of Austin has crossed the threshold of becoming a Majority-Minority city, meaning that no demographic group exists as a majority of the City's population. One notable trend is the growing number of Latino and Asian households.\n\nBeing a fast-growing city with diverse ethnicities, Austin is a great place for entrepreneurs to start and grow their business. The city is also well known for its outstanding food and great live music venues.\n\n# Business Problem\n\nHaving lived in Bay Area for more than a decade and frequently travelling to Austix for work, I have always wondered why there aren't many authentic Chinese restaurants in the Austin area as compared to the Bay Area and now that the is a lot of migration happening from The Bay Area to Austin, is this a potential business opportunity to be open a Chinese Restaurant to server all these newly relocating people as they for sure will be missing the authentic chinese food that is available in the Bay Area. The objective of this project is to segment and cluster the neighborhoods of Austin using different data sources including Foursquare location data to find the 'best' neighborhood to open a Chinese restaurant based on the venues in the area.\n\n# Target Audience\n\nThe target audience of this project would be anyone that is interested in opening or growing a Chinese restaurant in Austin, TX. The cluster analysis of Austin neighborhoods and demographic data will help entrepreneurs make an informed decision about which neighborhoods to aim for based of the frequency of people visting chinese restaurants in a given neighborhood.\n\n# Data Acquisation and Curation:\nTo begin with, I gathered data on the reporting neighborhoods in the city of Austin. The neighborhood data I found is from the Housing and Planning Department of the Austin City Government: https://data.austintexas.gov/Building-and-Development/Neighborhoods/a7ap-j2yt; this dataset includes the names and geometric information of the different neighborhoods, and their sizes and shapes. As Part of this project I plan to use not only the Foursquare API's \"explore\" endpoint from this course to get near by venue information, but also demonstarte the use of Google API to gather latitude and longtitude information.\n"
        },
        {
            "cell_type": "code",
            "execution_count": null,
            "metadata": {},
            "outputs": [],
            "source": ""
        }
    ],
    "metadata": {
        "kernelspec": {
            "display_name": "Python 3.7",
            "language": "python",
            "name": "python3"
        },
        "language_info": {
            "codemirror_mode": {
                "name": "ipython",
                "version": 3
            },
            "file_extension": ".py",
            "mimetype": "text/x-python",
            "name": "python",
            "nbconvert_exporter": "python",
            "pygments_lexer": "ipython3",
            "version": "3.7.9"
        }
    },
    "nbformat": 4,
    "nbformat_minor": 1
}